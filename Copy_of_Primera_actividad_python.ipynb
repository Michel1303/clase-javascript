{
  "nbformat": 4,
  "nbformat_minor": 0,
  "metadata": {
    "colab": {
      "provenance": [],
      "authorship_tag": "ABX9TyPAvu090A0clmV3yOdQMZcJ",
      "include_colab_link": true
    },
    "kernelspec": {
      "name": "python3",
      "display_name": "Python 3"
    },
    "language_info": {
      "name": "python"
    }
  },
  "cells": [
    {
      "cell_type": "markdown",
      "metadata": {
        "id": "view-in-github",
        "colab_type": "text"
      },
      "source": [
        "<a href=\"https://colab.research.google.com/github/Michel1303/clase-javascript/blob/main/Copy_of_Primera_actividad_python.ipynb\" target=\"_parent\"><img src=\"https://colab.research.google.com/assets/colab-badge.svg\" alt=\"Open In Colab\"/></a>"
      ]
    },
    {
      "cell_type": "markdown",
      "source": [
        "Generador de historias interactivas"
      ],
      "metadata": {
        "id": "huUo1CSd79ya"
      }
    },
    {
      "cell_type": "code",
      "execution_count": null,
      "metadata": {
        "id": "vKAdvLxp7yyc"
      },
      "outputs": [],
      "source": [
        "personaje =  [\"la princesa\" , \"un dragon\" , \"un caballero\" , \"un mago\" ]\n",
        "lugar =  [\"en un castillo\" , \" en el bosque\" , \"en la casa de Maluma\" ]\n",
        "accion =  [\"lucha contra\" , \"habla con\" , \"baila con\" , \"huye de\" , \" huye con\" ]"
      ]
    },
    {
      "cell_type": "code",
      "source": [
        "import random\n",
        "\n",
        "#Seleccionar elementos al azar en cada lista\n",
        "personaje = random.choice(personaje)\n",
        "lugar = random.choice(lugar)\n",
        "accion = random.choice(accion)\n",
        "\n",
        "#Creamos historia\n",
        "historia = f\"{personaje} {accion} el Chavo del 8 {lugar}.\"\n",
        "\n",
        "#imprime la historia generada\n",
        "print(historia)\n"
      ],
      "metadata": {
        "colab": {
          "base_uri": "https://localhost:8080/"
        },
        "collapsed": true,
        "id": "J_ZQ0zP_91XS",
        "outputId": "df3d8dcc-3972-44db-b0ac-de47f423becb"
      },
      "execution_count": null,
      "outputs": [
        {
          "output_type": "stream",
          "name": "stdout",
          "text": [
            "la princesa baila con el Chavo del 8 en un castillo.\n"
          ]
        }
      ]
    }
  ]
}